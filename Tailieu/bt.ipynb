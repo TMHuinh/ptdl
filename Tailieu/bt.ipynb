{
 "cells": [
  {
   "cell_type": "code",
   "execution_count": 42,
   "metadata": {},
   "outputs": [],
   "source": [
    "import pandas as pd \n",
    "thietbi = pd.read_csv('thietbi.csv')\n",
    "nguoidung_thietbi = pd.read_csv('nguoidung_thietbi.csv')\n",
    "nguoidung_sudung = pd.read_csv('nguoidung_sudung.csv')"
   ]
  },
  {
   "cell_type": "code",
   "execution_count": 65,
   "metadata": {},
   "outputs": [],
   "source": [
    "thietbi.rename(columns={'Retail Branding': 'Branding','Marketing Name': 'MarketingName'}, inplace=True)"
   ]
  },
  {
   "cell_type": "code",
   "execution_count": 69,
   "metadata": {},
   "outputs": [],
   "source": [
    "dfketqua = pd.merge (nguoidung_sudung, nguoidung_thietbi[['use_id', 'platform', 'device']], on='use_id')"
   ]
  },
  {
   "cell_type": "code",
   "execution_count": 70,
   "metadata": {},
   "outputs": [],
   "source": [
    "dfketqua = pd.merge(dfKetqua,thietbi[['Branding', 'Model']], left_on='device', right_on='Model')"
   ]
  },
  {
   "cell_type": "code",
   "execution_count": 71,
   "metadata": {},
   "outputs": [
    {
     "data": {
      "text/html": [
       "<div>\n",
       "<style scoped>\n",
       "    .dataframe tbody tr th:only-of-type {\n",
       "        vertical-align: middle;\n",
       "    }\n",
       "\n",
       "    .dataframe tbody tr th {\n",
       "        vertical-align: top;\n",
       "    }\n",
       "\n",
       "    .dataframe thead th {\n",
       "        text-align: right;\n",
       "    }\n",
       "</style>\n",
       "<table border=\"1\" class=\"dataframe\">\n",
       "  <thead>\n",
       "    <tr style=\"text-align: right;\">\n",
       "      <th></th>\n",
       "      <th>outgoing_mins_per_month</th>\n",
       "      <th>outgoing_sms_per_month</th>\n",
       "      <th>monthly_mb</th>\n",
       "      <th>use_id</th>\n",
       "      <th>platform</th>\n",
       "      <th>device</th>\n",
       "      <th>Branding</th>\n",
       "      <th>Model</th>\n",
       "    </tr>\n",
       "  </thead>\n",
       "  <tbody>\n",
       "    <tr>\n",
       "      <th>0</th>\n",
       "      <td>21.97</td>\n",
       "      <td>4.82</td>\n",
       "      <td>1557.33</td>\n",
       "      <td>22787</td>\n",
       "      <td>android</td>\n",
       "      <td>GT-I9505</td>\n",
       "      <td>Samsung</td>\n",
       "      <td>GT-I9505</td>\n",
       "    </tr>\n",
       "    <tr>\n",
       "      <th>1</th>\n",
       "      <td>69.80</td>\n",
       "      <td>14.70</td>\n",
       "      <td>25955.55</td>\n",
       "      <td>22801</td>\n",
       "      <td>android</td>\n",
       "      <td>GT-I9505</td>\n",
       "      <td>Samsung</td>\n",
       "      <td>GT-I9505</td>\n",
       "    </tr>\n",
       "    <tr>\n",
       "      <th>2</th>\n",
       "      <td>249.26</td>\n",
       "      <td>253.22</td>\n",
       "      <td>1557.33</td>\n",
       "      <td>22875</td>\n",
       "      <td>android</td>\n",
       "      <td>GT-I9505</td>\n",
       "      <td>Samsung</td>\n",
       "      <td>GT-I9505</td>\n",
       "    </tr>\n",
       "    <tr>\n",
       "      <th>3</th>\n",
       "      <td>249.26</td>\n",
       "      <td>253.22</td>\n",
       "      <td>1557.33</td>\n",
       "      <td>22876</td>\n",
       "      <td>android</td>\n",
       "      <td>GT-I9505</td>\n",
       "      <td>Samsung</td>\n",
       "      <td>GT-I9505</td>\n",
       "    </tr>\n",
       "    <tr>\n",
       "      <th>4</th>\n",
       "      <td>83.46</td>\n",
       "      <td>114.06</td>\n",
       "      <td>3114.67</td>\n",
       "      <td>22880</td>\n",
       "      <td>android</td>\n",
       "      <td>GT-I9505</td>\n",
       "      <td>Samsung</td>\n",
       "      <td>GT-I9505</td>\n",
       "    </tr>\n",
       "  </tbody>\n",
       "</table>\n",
       "</div>"
      ],
      "text/plain": [
       "   outgoing_mins_per_month  outgoing_sms_per_month  monthly_mb  use_id  \\\n",
       "0                    21.97                    4.82     1557.33   22787   \n",
       "1                    69.80                   14.70    25955.55   22801   \n",
       "2                   249.26                  253.22     1557.33   22875   \n",
       "3                   249.26                  253.22     1557.33   22876   \n",
       "4                    83.46                  114.06     3114.67   22880   \n",
       "\n",
       "  platform    device Branding     Model  \n",
       "0  android  GT-I9505  Samsung  GT-I9505  \n",
       "1  android  GT-I9505  Samsung  GT-I9505  \n",
       "2  android  GT-I9505  Samsung  GT-I9505  \n",
       "3  android  GT-I9505  Samsung  GT-I9505  \n",
       "4  android  GT-I9505  Samsung  GT-I9505  "
      ]
     },
     "execution_count": 71,
     "metadata": {},
     "output_type": "execute_result"
    }
   ],
   "source": [
    "dfketqua [dfketqua.device.str.startswith('GT')].head(5)"
   ]
  },
  {
   "cell_type": "code",
   "execution_count": 47,
   "metadata": {},
   "outputs": [
    {
     "data": {
      "text/html": [
       "<div>\n",
       "<style scoped>\n",
       "    .dataframe tbody tr th:only-of-type {\n",
       "        vertical-align: middle;\n",
       "    }\n",
       "\n",
       "    .dataframe tbody tr th {\n",
       "        vertical-align: top;\n",
       "    }\n",
       "\n",
       "    .dataframe thead th {\n",
       "        text-align: right;\n",
       "    }\n",
       "</style>\n",
       "<table border=\"1\" class=\"dataframe\">\n",
       "  <thead>\n",
       "    <tr style=\"text-align: right;\">\n",
       "      <th></th>\n",
       "      <th>outgoing_mins_per_month</th>\n",
       "      <th>outgoing_sms_per_month</th>\n",
       "      <th>monthly_mb</th>\n",
       "      <th>use_id</th>\n",
       "    </tr>\n",
       "    <tr>\n",
       "      <th>Branding</th>\n",
       "      <th></th>\n",
       "      <th></th>\n",
       "      <th></th>\n",
       "      <th></th>\n",
       "    </tr>\n",
       "  </thead>\n",
       "  <tbody>\n",
       "    <tr>\n",
       "      <th>HTC</th>\n",
       "      <td>299.842955</td>\n",
       "      <td>93.059318</td>\n",
       "      <td>5144.077955</td>\n",
       "      <td>44</td>\n",
       "    </tr>\n",
       "    <tr>\n",
       "      <th>Huawei</th>\n",
       "      <td>81.526667</td>\n",
       "      <td>9.500000</td>\n",
       "      <td>1561.226667</td>\n",
       "      <td>3</td>\n",
       "    </tr>\n",
       "    <tr>\n",
       "      <th>LGE</th>\n",
       "      <td>111.530000</td>\n",
       "      <td>12.760000</td>\n",
       "      <td>1557.330000</td>\n",
       "      <td>2</td>\n",
       "    </tr>\n",
       "    <tr>\n",
       "      <th>Lava</th>\n",
       "      <td>60.650000</td>\n",
       "      <td>261.900000</td>\n",
       "      <td>12458.670000</td>\n",
       "      <td>2</td>\n",
       "    </tr>\n",
       "    <tr>\n",
       "      <th>Lenovo</th>\n",
       "      <td>215.920000</td>\n",
       "      <td>12.930000</td>\n",
       "      <td>1557.330000</td>\n",
       "      <td>2</td>\n",
       "    </tr>\n",
       "    <tr>\n",
       "      <th>Motorola</th>\n",
       "      <td>95.127500</td>\n",
       "      <td>65.666250</td>\n",
       "      <td>3946.500000</td>\n",
       "      <td>16</td>\n",
       "    </tr>\n",
       "    <tr>\n",
       "      <th>OnePlus</th>\n",
       "      <td>354.855000</td>\n",
       "      <td>48.330000</td>\n",
       "      <td>6575.410000</td>\n",
       "      <td>6</td>\n",
       "    </tr>\n",
       "    <tr>\n",
       "      <th>Samsung</th>\n",
       "      <td>191.010093</td>\n",
       "      <td>92.390463</td>\n",
       "      <td>4017.318889</td>\n",
       "      <td>108</td>\n",
       "    </tr>\n",
       "    <tr>\n",
       "      <th>Sony</th>\n",
       "      <td>177.315625</td>\n",
       "      <td>40.176250</td>\n",
       "      <td>3212.000625</td>\n",
       "      <td>16</td>\n",
       "    </tr>\n",
       "    <tr>\n",
       "      <th>Vodafone</th>\n",
       "      <td>42.750000</td>\n",
       "      <td>46.830000</td>\n",
       "      <td>5191.120000</td>\n",
       "      <td>1</td>\n",
       "    </tr>\n",
       "    <tr>\n",
       "      <th>ZTE</th>\n",
       "      <td>42.750000</td>\n",
       "      <td>46.830000</td>\n",
       "      <td>5191.120000</td>\n",
       "      <td>1</td>\n",
       "    </tr>\n",
       "  </tbody>\n",
       "</table>\n",
       "</div>"
      ],
      "text/plain": [
       "          outgoing_mins_per_month  outgoing_sms_per_month    monthly_mb  \\\n",
       "Branding                                                                  \n",
       "HTC                    299.842955               93.059318   5144.077955   \n",
       "Huawei                  81.526667                9.500000   1561.226667   \n",
       "LGE                    111.530000               12.760000   1557.330000   \n",
       "Lava                    60.650000              261.900000  12458.670000   \n",
       "Lenovo                 215.920000               12.930000   1557.330000   \n",
       "Motorola                95.127500               65.666250   3946.500000   \n",
       "OnePlus                354.855000               48.330000   6575.410000   \n",
       "Samsung                191.010093               92.390463   4017.318889   \n",
       "Sony                   177.315625               40.176250   3212.000625   \n",
       "Vodafone                42.750000               46.830000   5191.120000   \n",
       "ZTE                     42.750000               46.830000   5191.120000   \n",
       "\n",
       "          use_id  \n",
       "Branding          \n",
       "HTC           44  \n",
       "Huawei         3  \n",
       "LGE            2  \n",
       "Lava           2  \n",
       "Lenovo         2  \n",
       "Motorola      16  \n",
       "OnePlus        6  \n",
       "Samsung      108  \n",
       "Sony          16  \n",
       "Vodafone       1  \n",
       "ZTE            1  "
      ]
     },
     "execution_count": 47,
     "metadata": {},
     "output_type": "execute_result"
    }
   ],
   "source": [
    "dfKetQua.groupby ('Branding').agg({\n",
    "\n",
    "'outgoing_mins_per_month':'mean',\n",
    "\n",
    "'outgoing_sms_per_month':'mean',\n",
    "\n",
    "'monthly_mb':'mean',\n",
    "\n",
    "'use_id': 'count'\n",
    "\n",
    "})"
   ]
  },
  {
   "cell_type": "code",
   "execution_count": 48,
   "metadata": {},
   "outputs": [
    {
     "data": {
      "image/png": "[encoded data removed]",
      "text/plain": [
       "<Figure size 432x288 with 1 Axes>"
      ]
     },
     "metadata": {
      "needs_background": "light"
     },
     "output_type": "display_data"
    }
   ],
   "source": [
    "import seaborn as sns\n",
    "import matplotlib.pyplot as plt\n",
    "\n",
    "sns.countplot(y='Branding',data=dfKetQua)\n",
    "plt.show()"
   ]
  },
  {
   "cell_type": "code",
   "execution_count": 49,
   "metadata": {},
   "outputs": [
    {
     "data": {
      "image/png": "[encoded data removed]",
      "text/plain": [
       "<Figure size 432x288 with 1 Axes>"
      ]
     },
     "metadata": {
      "needs_background": "light"
     },
     "output_type": "display_data"
    }
   ],
   "source": [
    "import numpy as np\n",
    "sns.barplot(y='Branding',x='outgoing_mins_per_month',data=dfKetQua)\n",
    "plt.show()"
   ]
  },
  {
   "cell_type": "code",
   "execution_count": 50,
   "metadata": {},
   "outputs": [
    {
     "data": {
      "text/plain": [
       "<AxesSubplot:xlabel='outgoing_mins_per_month', ylabel='outgoing_sms_per_month'>"
      ]
     },
     "execution_count": 50,
     "metadata": {},
     "output_type": "execute_result"
    },
    {
     "data": {
      "image/png": "[encoded data removed]",
      "text/plain": [
       "<Figure size 432x288 with 1 Axes>"
      ]
     },
     "metadata": {
      "needs_background": "light"
     },
     "output_type": "display_data"
    }
   ],
   "source": [
    "sns.scatterplot(y='outgoing_sms_per_month',x='outgoing_mins_per_month',data=dfKetQua)"
   ]
  },
  {
   "cell_type": "code",
   "execution_count": 51,
   "metadata": {},
   "outputs": [
    {
     "data": {
      "text/html": [
       "<div>\n",
       "<style scoped>\n",
       "    .dataframe tbody tr th:only-of-type {\n",
       "        vertical-align: middle;\n",
       "    }\n",
       "\n",
       "    .dataframe tbody tr th {\n",
       "        vertical-align: top;\n",
       "    }\n",
       "\n",
       "    .dataframe thead th {\n",
       "        text-align: right;\n",
       "    }\n",
       "</style>\n",
       "<table border=\"1\" class=\"dataframe\">\n",
       "  <thead>\n",
       "    <tr style=\"text-align: right;\">\n",
       "      <th></th>\n",
       "      <th>outgoing_mins_per_month</th>\n",
       "      <th>outgoing_sms_per_month</th>\n",
       "      <th>monthly_mb</th>\n",
       "      <th>use_id</th>\n",
       "      <th>platform</th>\n",
       "      <th>device</th>\n",
       "      <th>Branding</th>\n",
       "      <th>Model</th>\n",
       "    </tr>\n",
       "  </thead>\n",
       "  <tbody>\n",
       "    <tr>\n",
       "      <th>0</th>\n",
       "      <td>21.97</td>\n",
       "      <td>4.82</td>\n",
       "      <td>1557.33</td>\n",
       "      <td>22787</td>\n",
       "      <td>android</td>\n",
       "      <td>GT-I9505</td>\n",
       "      <td>Samsung</td>\n",
       "      <td>GT-I9505</td>\n",
       "    </tr>\n",
       "    <tr>\n",
       "      <th>1</th>\n",
       "      <td>69.80</td>\n",
       "      <td>14.70</td>\n",
       "      <td>25955.55</td>\n",
       "      <td>22801</td>\n",
       "      <td>android</td>\n",
       "      <td>GT-I9505</td>\n",
       "      <td>Samsung</td>\n",
       "      <td>GT-I9505</td>\n",
       "    </tr>\n",
       "    <tr>\n",
       "      <th>2</th>\n",
       "      <td>249.26</td>\n",
       "      <td>253.22</td>\n",
       "      <td>1557.33</td>\n",
       "      <td>22875</td>\n",
       "      <td>android</td>\n",
       "      <td>GT-I9505</td>\n",
       "      <td>Samsung</td>\n",
       "      <td>GT-I9505</td>\n",
       "    </tr>\n",
       "    <tr>\n",
       "      <th>3</th>\n",
       "      <td>249.26</td>\n",
       "      <td>253.22</td>\n",
       "      <td>1557.33</td>\n",
       "      <td>22876</td>\n",
       "      <td>android</td>\n",
       "      <td>GT-I9505</td>\n",
       "      <td>Samsung</td>\n",
       "      <td>GT-I9505</td>\n",
       "    </tr>\n",
       "    <tr>\n",
       "      <th>4</th>\n",
       "      <td>83.46</td>\n",
       "      <td>114.06</td>\n",
       "      <td>3114.67</td>\n",
       "      <td>22880</td>\n",
       "      <td>android</td>\n",
       "      <td>GT-I9505</td>\n",
       "      <td>Samsung</td>\n",
       "      <td>GT-I9505</td>\n",
       "    </tr>\n",
       "    <tr>\n",
       "      <th>...</th>\n",
       "      <td>...</td>\n",
       "      <td>...</td>\n",
       "      <td>...</td>\n",
       "      <td>...</td>\n",
       "      <td>...</td>\n",
       "      <td>...</td>\n",
       "      <td>...</td>\n",
       "      <td>...</td>\n",
       "    </tr>\n",
       "    <tr>\n",
       "      <th>196</th>\n",
       "      <td>22.85</td>\n",
       "      <td>34.54</td>\n",
       "      <td>6577.12</td>\n",
       "      <td>23029</td>\n",
       "      <td>android</td>\n",
       "      <td>HTC One_M8</td>\n",
       "      <td>HTC</td>\n",
       "      <td>HTC One_M8</td>\n",
       "    </tr>\n",
       "    <tr>\n",
       "      <th>197</th>\n",
       "      <td>180.18</td>\n",
       "      <td>17.49</td>\n",
       "      <td>2076.45</td>\n",
       "      <td>23039</td>\n",
       "      <td>android</td>\n",
       "      <td>SM-G531F</td>\n",
       "      <td>Samsung</td>\n",
       "      <td>SM-G531F</td>\n",
       "    </tr>\n",
       "    <tr>\n",
       "      <th>198</th>\n",
       "      <td>12.85</td>\n",
       "      <td>58.32</td>\n",
       "      <td>74.40</td>\n",
       "      <td>23040</td>\n",
       "      <td>android</td>\n",
       "      <td>HTC Desire 620</td>\n",
       "      <td>HTC</td>\n",
       "      <td>HTC Desire 620</td>\n",
       "    </tr>\n",
       "    <tr>\n",
       "      <th>199</th>\n",
       "      <td>42.75</td>\n",
       "      <td>46.83</td>\n",
       "      <td>5191.12</td>\n",
       "      <td>23053</td>\n",
       "      <td>android</td>\n",
       "      <td>Vodafone Smart ultra 6</td>\n",
       "      <td>Vodafone</td>\n",
       "      <td>Vodafone Smart ultra 6</td>\n",
       "    </tr>\n",
       "    <tr>\n",
       "      <th>200</th>\n",
       "      <td>42.75</td>\n",
       "      <td>46.83</td>\n",
       "      <td>5191.12</td>\n",
       "      <td>23053</td>\n",
       "      <td>android</td>\n",
       "      <td>Vodafone Smart ultra 6</td>\n",
       "      <td>ZTE</td>\n",
       "      <td>Vodafone Smart ultra 6</td>\n",
       "    </tr>\n",
       "  </tbody>\n",
       "</table>\n",
       "<p>201 rows × 8 columns</p>\n",
       "</div>"
      ],
      "text/plain": [
       "     outgoing_mins_per_month  outgoing_sms_per_month  monthly_mb  use_id  \\\n",
       "0                      21.97                    4.82     1557.33   22787   \n",
       "1                      69.80                   14.70    25955.55   22801   \n",
       "2                     249.26                  253.22     1557.33   22875   \n",
       "3                     249.26                  253.22     1557.33   22876   \n",
       "4                      83.46                  114.06     3114.67   22880   \n",
       "..                       ...                     ...         ...     ...   \n",
       "196                    22.85                   34.54     6577.12   23029   \n",
       "197                   180.18                   17.49     2076.45   23039   \n",
       "198                    12.85                   58.32       74.40   23040   \n",
       "199                    42.75                   46.83     5191.12   23053   \n",
       "200                    42.75                   46.83     5191.12   23053   \n",
       "\n",
       "    platform                  device  Branding                   Model  \n",
       "0    android                GT-I9505   Samsung                GT-I9505  \n",
       "1    android                GT-I9505   Samsung                GT-I9505  \n",
       "2    android                GT-I9505   Samsung                GT-I9505  \n",
       "3    android                GT-I9505   Samsung                GT-I9505  \n",
       "4    android                GT-I9505   Samsung                GT-I9505  \n",
       "..       ...                     ...       ...                     ...  \n",
       "196  android              HTC One_M8       HTC              HTC One_M8  \n",
       "197  android                SM-G531F   Samsung                SM-G531F  \n",
       "198  android          HTC Desire 620       HTC          HTC Desire 620  \n",
       "199  android  Vodafone Smart ultra 6  Vodafone  Vodafone Smart ultra 6  \n",
       "200  android  Vodafone Smart ultra 6       ZTE  Vodafone Smart ultra 6  \n",
       "\n",
       "[201 rows x 8 columns]"
      ]
     },
     "execution_count": 51,
     "metadata": {},
     "output_type": "execute_result"
    }
   ],
   "source": [
    "# Cau 11\n",
    "from statsmodels.stats.weightstats import ztest as ztest\n",
    "import scipy.stats as stats\n",
    "dfKetQua\n"
   ]
  },
  {
   "cell_type": "code",
   "execution_count": 52,
   "metadata": {},
   "outputs": [
    {
     "data": {
      "text/plain": [
       "(0.3678324474067914, 0.7129981730830808)"
      ]
     },
     "execution_count": 52,
     "metadata": {},
     "output_type": "execute_result"
    }
   ],
   "source": [
    "# Cau 11\n",
    "ztest(dfKetQua[\"outgoing_mins_per_month\"], value=200)\n",
    "# Khong du du kien de ket luan trung bình outgoing_mins_per_month bằng 200 phút"
   ]
  },
  {
   "cell_type": "code",
   "execution_count": 53,
   "metadata": {},
   "outputs": [
    {
     "data": {
      "text/plain": [
       "(-2.956708578196125, 0.003109418467062032)"
      ]
     },
     "execution_count": 53,
     "metadata": {},
     "output_type": "execute_result"
    }
   ],
   "source": [
    "# Cau 12\n",
    "ztest(dfKetQua[\"outgoing_sms_per_month\"], value=100)\n",
    "# khong du du kien de ket luan trung bình outgoing_sms_per_month khong bằng 100 tin nhắn"
   ]
  },
  {
   "cell_type": "code",
   "execution_count": 54,
   "metadata": {},
   "outputs": [
    {
     "data": {
      "text/plain": [
       "(5.918078326415771, 3.257248511198895e-09)"
      ]
     },
     "execution_count": 54,
     "metadata": {},
     "output_type": "execute_result"
    }
   ],
   "source": [
    "# Cau 13\n",
    "ztest(dfKetQua[\"monthly_mb\"], value=2048)\n",
    "# khong du du kien de ket luan  trung bình monthly_mb có bằng 2048 mb"
   ]
  },
  {
   "cell_type": "code",
   "execution_count": 55,
   "metadata": {},
   "outputs": [
    {
     "name": "stdout",
     "output_type": "stream",
     "text": [
      "                  Feature1                Feature2  Correlation\n",
      "5   outgoing_sms_per_month              monthly_mb    -0.046049\n",
      "1  outgoing_mins_per_month  outgoing_sms_per_month    -0.016494\n",
      "2  outgoing_mins_per_month              monthly_mb     0.213489\n"
     ]
    }
   ],
   "source": [
    "# Cau 14\n",
    "import pandas as pd\n",
    "\n",
    "correlation_matrix = dfKetQua[['outgoing_mins_per_month', 'outgoing_sms_per_month', 'monthly_mb']].corr()\n",
    "\n",
    "correlation_pairs = correlation_matrix.unstack().reset_index()\n",
    "\n",
    "correlation_pairs.columns = ['Feature1', 'Feature2', 'Correlation']\n",
    "\n",
    "correlation_pairs = correlation_pairs[correlation_pairs['Feature1'] != correlation_pairs['Feature2']]\n",
    "\n",
    "correlation_pairs.drop_duplicates(subset=['Correlation'], inplace=True)\n",
    "\n",
    "correlation_pairs_sorted = correlation_pairs.sort_values(by='Correlation')\n",
    "\n",
    "print(correlation_pairs_sorted)"
   ]
  },
  {
   "cell_type": "code",
   "execution_count": 56,
   "metadata": {},
   "outputs": [
    {
     "name": "stdout",
     "output_type": "stream",
     "text": [
      "   Hệ số tương quan   P-value\n",
      "0         -0.016494  0.816222\n"
     ]
    }
   ],
   "source": [
    "# cau 15\n",
    "import pandas as pd\n",
    "import scipy.stats as stats\n",
    "\n",
    "correlation, p_value = stats.pearsonr(dfKetQua['outgoing_mins_per_month'], dfKetQua['outgoing_sms_per_month'])\n",
    "\n",
    "dfKetQua = pd.DataFrame({\n",
    "    'Hệ số tương quan': [correlation],\n",
    "    'P-value': [p_value]\n",
    "})\n",
    "\n",
    "print(dfKetQua)"
   ]
  },
  {
   "cell_type": "code",
   "execution_count": 72,
   "metadata": {},
   "outputs": [
    {
     "name": "stdout",
     "output_type": "stream",
     "text": [
      "Chi-squared Statistic: 0.0\n",
      "P-value: 1.0\n"
     ]
    }
   ],
   "source": [
    "# Cau 16\n",
    "import pandas as pd\n",
    "import scipy.stats as stats\n",
    "\n",
    "contingency_table = pd.crosstab(dfketqua['platform'], dfketqua['Branding'])\n",
    "\n",
    "chi2_stat, p_value, dof, expected = stats.chi2_contingency(contingency_table)\n",
    "\n",
    "print(f\"Chi-squared Statistic: {chi2_stat}\")\n",
    "print(f\"P-value: {p_value}\")"
   ]
  },
  {
   "cell_type": "code",
   "execution_count": 73,
   "metadata": {},
   "outputs": [
    {
     "name": "stdout",
     "output_type": "stream",
     "text": [
      "Chi-squared Statistic: 0.0\n",
      "P-value: 1.0\n"
     ]
    }
   ],
   "source": [
    "# Cau 17\n",
    "import pandas as pd\n",
    "import scipy.stats as stats\n",
    "\n",
    "# Tạo bảng phân phối chéo giữa platform và branding\n",
    "contingency_table = pd.crosstab(dfketqua['monthly_mb'], dfketqua['platform'])\n",
    "\n",
    "# Thực hiện kiểm định Chi-squared\n",
    "chi2_stat, p_value, dof, expected = stats.chi2_contingency(contingency_table)\n",
    "\n",
    "# Hiển thị kết quả\n",
    "print(f\"Chi-squared Statistic: {chi2_stat}\")\n",
    "print(f\"P-value: {p_value}\")"
   ]
  },
  {
   "cell_type": "code",
   "execution_count": 75,
   "metadata": {},
   "outputs": [
    {
     "ename": "TypeError",
     "evalue": "at least two inputs are required; got 1.",
     "output_type": "error",
     "traceback": [
      "\u001b[1;31m---------------------------------------------------------------------------\u001b[0m",
      "\u001b[1;31mTypeError\u001b[0m                                 Traceback (most recent call last)",
      "\u001b[1;32m<ipython-input-75-fb83992cb3d4>\u001b[0m in \u001b[0;36m<module>\u001b[1;34m\u001b[0m\n\u001b[0;32m      9\u001b[0m \u001b[1;32mfor\u001b[0m \u001b[0mbranding\u001b[0m\u001b[1;33m,\u001b[0m \u001b[0mgroup\u001b[0m \u001b[1;32min\u001b[0m \u001b[0mdfketqua\u001b[0m\u001b[1;33m.\u001b[0m\u001b[0mgroupby\u001b[0m\u001b[1;33m(\u001b[0m\u001b[1;34m'Branding'\u001b[0m\u001b[1;33m)\u001b[0m\u001b[1;33m:\u001b[0m\u001b[1;33m\u001b[0m\u001b[1;33m\u001b[0m\u001b[0m\n\u001b[0;32m     10\u001b[0m     \u001b[1;31m# Thực hiện kiểm định ANOVA giữa monthly_mb và platform trong nhóm branding\u001b[0m\u001b[1;33m\u001b[0m\u001b[1;33m\u001b[0m\u001b[1;33m\u001b[0m\u001b[0m\n\u001b[1;32m---> 11\u001b[1;33m     \u001b[0mf_stat\u001b[0m\u001b[1;33m,\u001b[0m \u001b[0mp_value\u001b[0m \u001b[1;33m=\u001b[0m \u001b[0mstats\u001b[0m\u001b[1;33m.\u001b[0m\u001b[0mf_oneway\u001b[0m\u001b[1;33m(\u001b[0m\u001b[1;33m*\u001b[0m\u001b[1;33m[\u001b[0m\u001b[0mgroup\u001b[0m\u001b[1;33m[\u001b[0m\u001b[1;34m'monthly_mb'\u001b[0m\u001b[1;33m]\u001b[0m\u001b[1;33m[\u001b[0m\u001b[0mgroup\u001b[0m\u001b[1;33m[\u001b[0m\u001b[1;34m'platform'\u001b[0m\u001b[1;33m]\u001b[0m \u001b[1;33m==\u001b[0m \u001b[0mplatform\u001b[0m\u001b[1;33m]\u001b[0m \u001b[1;32mfor\u001b[0m \u001b[0mplatform\u001b[0m \u001b[1;32min\u001b[0m \u001b[0mgroup\u001b[0m\u001b[1;33m[\u001b[0m\u001b[1;34m'platform'\u001b[0m\u001b[1;33m]\u001b[0m\u001b[1;33m.\u001b[0m\u001b[0munique\u001b[0m\u001b[1;33m(\u001b[0m\u001b[1;33m)\u001b[0m\u001b[1;33m]\u001b[0m\u001b[1;33m)\u001b[0m\u001b[1;33m\u001b[0m\u001b[1;33m\u001b[0m\u001b[0m\n\u001b[0m\u001b[0;32m     12\u001b[0m \u001b[1;33m\u001b[0m\u001b[0m\n\u001b[0;32m     13\u001b[0m     \u001b[1;31m# Lưu kết quả vào danh sách\u001b[0m\u001b[1;33m\u001b[0m\u001b[1;33m\u001b[0m\u001b[1;33m\u001b[0m\u001b[0m\n",
      "\u001b[1;32mc:\\ProgramData\\Anaconda3\\lib\\site-packages\\scipy\\stats\\stats.py\u001b[0m in \u001b[0;36mf_oneway\u001b[1;34m(axis, *args)\u001b[0m\n\u001b[0;32m   3593\u001b[0m     \"\"\"\n\u001b[0;32m   3594\u001b[0m     \u001b[1;32mif\u001b[0m \u001b[0mlen\u001b[0m\u001b[1;33m(\u001b[0m\u001b[0margs\u001b[0m\u001b[1;33m)\u001b[0m \u001b[1;33m<\u001b[0m \u001b[1;36m2\u001b[0m\u001b[1;33m:\u001b[0m\u001b[1;33m\u001b[0m\u001b[1;33m\u001b[0m\u001b[0m\n\u001b[1;32m-> 3595\u001b[1;33m         \u001b[1;32mraise\u001b[0m \u001b[0mTypeError\u001b[0m\u001b[1;33m(\u001b[0m\u001b[1;34mf'at least two inputs are required; got {len(args)}.'\u001b[0m\u001b[1;33m)\u001b[0m\u001b[1;33m\u001b[0m\u001b[1;33m\u001b[0m\u001b[0m\n\u001b[0m\u001b[0;32m   3596\u001b[0m \u001b[1;33m\u001b[0m\u001b[0m\n\u001b[0;32m   3597\u001b[0m     \u001b[0margs\u001b[0m \u001b[1;33m=\u001b[0m \u001b[1;33m[\u001b[0m\u001b[0mnp\u001b[0m\u001b[1;33m.\u001b[0m\u001b[0masarray\u001b[0m\u001b[1;33m(\u001b[0m\u001b[0marg\u001b[0m\u001b[1;33m,\u001b[0m \u001b[0mdtype\u001b[0m\u001b[1;33m=\u001b[0m\u001b[0mfloat\u001b[0m\u001b[1;33m)\u001b[0m \u001b[1;32mfor\u001b[0m \u001b[0marg\u001b[0m \u001b[1;32min\u001b[0m \u001b[0margs\u001b[0m\u001b[1;33m]\u001b[0m\u001b[1;33m\u001b[0m\u001b[1;33m\u001b[0m\u001b[0m\n",
      "\u001b[1;31mTypeError\u001b[0m: at least two inputs are required; got 1."
     ]
    }
   ],
   "source": [
    "# Cau 18\n",
    "import pandas as pd\n",
    "import scipy.stats as stats\n",
    "\n",
    "# Tạo một DataFrame để chứa kết quả\n",
    "results = []\n",
    "\n",
    "# Duyệt qua từng nhóm branding\n",
    "for branding, group in dfketqua.groupby('Branding'):\n",
    "    # Thực hiện kiểm định ANOVA giữa monthly_mb và platform trong nhóm branding\n",
    "    f_stat, p_value = stats.f_oneway(*[group['monthly_mb'][group['platform'] == platform] for platform in group['platform'].unique()])\n",
    "    \n",
    "    # Lưu kết quả vào danh sách\n",
    "    results.append({'Branding': branding, 'F-statistic': f_stat, 'P-value': p_value})\n",
    "\n",
    "# Chuyển đổi danh sách kết quả thành DataFrame\n",
    "df_results = pd.DataFrame(results)\n",
    "\n",
    "# Hiển thị kết quả\n",
    "print(df_results)"
   ]
  },
  {
   "cell_type": "code",
   "execution_count": null,
   "metadata": {},
   "outputs": [],
   "source": []
  }
 ],
 "metadata": {
  "kernelspec": {
   "display_name": "base",
   "language": "python",
   "name": "python3"
  },
  "language_info": {
   "codemirror_mode": {
    "name": "ipython",
    "version": 3
   },
   "file_extension": ".py",
   "mimetype": "text/x-python",
   "name": "python",
   "nbconvert_exporter": "python",
   "pygments_lexer": "ipython3",
   "version": "3.8.5"
  }
 },
 "nbformat": 4,
 "nbformat_minor": 2
}
