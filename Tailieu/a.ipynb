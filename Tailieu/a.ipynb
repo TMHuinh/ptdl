{
 "metadata": {
  "language_info": {
   "codemirror_mode": {
    "name": "ipython",
    "version": 3
   },
   "file_extension": ".py",
   "mimetype": "text/x-python",
   "name": "python",
   "nbconvert_exporter": "python",
   "pygments_lexer": "ipython3",
   "version": "3.8.5"
  },
  "orig_nbformat": 2,
  "kernelspec": {
   "name": "python3",
   "display_name": "Python 3.8.5 64-bit ('ProgramData': virtualenv)",
   "metadata": {
    "interpreter": {
     "hash": "b3ba2566441a7c06988d0923437866b63cedc61552a5af99d1f4fb67d367b25f"
    }
   }
  }
 },
 "nbformat": 4,
 "nbformat_minor": 2,
 "cells": [
  {
   "cell_type": "code",
   "execution_count": 1,
   "metadata": {},
   "outputs": [
    {
     "output_type": "execute_result",
     "data": {
      "text/plain": [
       "     ti   ci drug\n",
       "0   5.1  3.5    X\n",
       "1   4.9  3.0    X\n",
       "2   4.7  3.2    X\n",
       "3   4.6  3.1    X\n",
       "4   7.0  3.2    Y\n",
       "5   6.4  2.9    Y\n",
       "6   6.9  3.1    Y\n",
       "7   5.5  2.3    Y\n",
       "8   6.3  2.5    Z\n",
       "9   6.5  3.0    Z\n",
       "10  6.2  3.4    Z\n",
       "11  5.9  3.0    Z"
      ],
      "text/html": "<div>\n<style scoped>\n    .dataframe tbody tr th:only-of-type {\n        vertical-align: middle;\n    }\n\n    .dataframe tbody tr th {\n        vertical-align: top;\n    }\n\n    .dataframe thead th {\n        text-align: right;\n    }\n</style>\n<table border=\"1\" class=\"dataframe\">\n  <thead>\n    <tr style=\"text-align: right;\">\n      <th></th>\n      <th>ti</th>\n      <th>ci</th>\n      <th>drug</th>\n    </tr>\n  </thead>\n  <tbody>\n    <tr>\n      <th>0</th>\n      <td>5.1</td>\n      <td>3.5</td>\n      <td>X</td>\n    </tr>\n    <tr>\n      <th>1</th>\n      <td>4.9</td>\n      <td>3.0</td>\n      <td>X</td>\n    </tr>\n    <tr>\n      <th>2</th>\n      <td>4.7</td>\n      <td>3.2</td>\n      <td>X</td>\n    </tr>\n    <tr>\n      <th>3</th>\n      <td>4.6</td>\n      <td>3.1</td>\n      <td>X</td>\n    </tr>\n    <tr>\n      <th>4</th>\n      <td>7.0</td>\n      <td>3.2</td>\n      <td>Y</td>\n    </tr>\n    <tr>\n      <th>5</th>\n      <td>6.4</td>\n      <td>2.9</td>\n      <td>Y</td>\n    </tr>\n    <tr>\n      <th>6</th>\n      <td>6.9</td>\n      <td>3.1</td>\n      <td>Y</td>\n    </tr>\n    <tr>\n      <th>7</th>\n      <td>5.5</td>\n      <td>2.3</td>\n      <td>Y</td>\n    </tr>\n    <tr>\n      <th>8</th>\n      <td>6.3</td>\n      <td>2.5</td>\n      <td>Z</td>\n    </tr>\n    <tr>\n      <th>9</th>\n      <td>6.5</td>\n      <td>3.0</td>\n      <td>Z</td>\n    </tr>\n    <tr>\n      <th>10</th>\n      <td>6.2</td>\n      <td>3.4</td>\n      <td>Z</td>\n    </tr>\n    <tr>\n      <th>11</th>\n      <td>5.9</td>\n      <td>3.0</td>\n      <td>Z</td>\n    </tr>\n  </tbody>\n</table>\n</div>"
     },
     "metadata": {},
     "execution_count": 1
    }
   ],
   "source": [
    "import pandas as pd \n",
    "df = pd.read_excel(\"data_bayes.xlsx\")\n",
    "df"
   ]
  },
  {
   "cell_type": "code",
   "execution_count": 2,
   "metadata": {},
   "outputs": [
    {
     "output_type": "execute_result",
     "data": {
      "text/plain": [
       "     ti   ci drug\n",
       "10  6.2  3.4    Z\n",
       "4   7.0  3.2    Y\n",
       "3   4.6  3.1    X\n",
       "1   4.9  3.0    X\n",
       "5   6.4  2.9    Y\n",
       "11  5.9  3.0    Z\n",
       "9   6.5  3.0    Z"
      ],
      "text/html": "<div>\n<style scoped>\n    .dataframe tbody tr th:only-of-type {\n        vertical-align: middle;\n    }\n\n    .dataframe tbody tr th {\n        vertical-align: top;\n    }\n\n    .dataframe thead th {\n        text-align: right;\n    }\n</style>\n<table border=\"1\" class=\"dataframe\">\n  <thead>\n    <tr style=\"text-align: right;\">\n      <th></th>\n      <th>ti</th>\n      <th>ci</th>\n      <th>drug</th>\n    </tr>\n  </thead>\n  <tbody>\n    <tr>\n      <th>10</th>\n      <td>6.2</td>\n      <td>3.4</td>\n      <td>Z</td>\n    </tr>\n    <tr>\n      <th>4</th>\n      <td>7.0</td>\n      <td>3.2</td>\n      <td>Y</td>\n    </tr>\n    <tr>\n      <th>3</th>\n      <td>4.6</td>\n      <td>3.1</td>\n      <td>X</td>\n    </tr>\n    <tr>\n      <th>1</th>\n      <td>4.9</td>\n      <td>3.0</td>\n      <td>X</td>\n    </tr>\n    <tr>\n      <th>5</th>\n      <td>6.4</td>\n      <td>2.9</td>\n      <td>Y</td>\n    </tr>\n    <tr>\n      <th>11</th>\n      <td>5.9</td>\n      <td>3.0</td>\n      <td>Z</td>\n    </tr>\n    <tr>\n      <th>9</th>\n      <td>6.5</td>\n      <td>3.0</td>\n      <td>Z</td>\n    </tr>\n  </tbody>\n</table>\n</div>"
     },
     "metadata": {},
     "execution_count": 2
    }
   ],
   "source": [
    "from sklearn.model_selection import train_test_split\n",
    "df_train, df_test = train_test_split(df, test_size=0.4, random_state=16)\n",
    "\n",
    "df_train"
   ]
  },
  {
   "cell_type": "code",
   "execution_count": 3,
   "metadata": {},
   "outputs": [
    {
     "output_type": "execute_result",
     "data": {
      "text/plain": [
       "ti    5.928571\n",
       "ci    3.085714\n",
       "dtype: float64"
      ]
     },
     "metadata": {},
     "execution_count": 3
    }
   ],
   "source": [
    "df_train.mean()"
   ]
  },
  {
   "cell_type": "code",
   "execution_count": 4,
   "metadata": {},
   "outputs": [
    {
     "output_type": "execute_result",
     "data": {
      "text/plain": [
       "ti    0.875051\n",
       "ci    0.167616\n",
       "dtype: float64"
      ]
     },
     "metadata": {},
     "execution_count": 4
    }
   ],
   "source": [
    "df_train.std()"
   ]
  },
  {
   "cell_type": "code",
   "execution_count": 5,
   "metadata": {},
   "outputs": [
    {
     "output_type": "execute_result",
     "data": {
      "text/plain": [
       "        ti        ci\n",
       "drug                \n",
       "X     4.75  3.050000\n",
       "Y     6.70  3.050000\n",
       "Z     6.20  3.133333"
      ],
      "text/html": "<div>\n<style scoped>\n    .dataframe tbody tr th:only-of-type {\n        vertical-align: middle;\n    }\n\n    .dataframe tbody tr th {\n        vertical-align: top;\n    }\n\n    .dataframe thead th {\n        text-align: right;\n    }\n</style>\n<table border=\"1\" class=\"dataframe\">\n  <thead>\n    <tr style=\"text-align: right;\">\n      <th></th>\n      <th>ti</th>\n      <th>ci</th>\n    </tr>\n    <tr>\n      <th>drug</th>\n      <th></th>\n      <th></th>\n    </tr>\n  </thead>\n  <tbody>\n    <tr>\n      <th>X</th>\n      <td>4.75</td>\n      <td>3.050000</td>\n    </tr>\n    <tr>\n      <th>Y</th>\n      <td>6.70</td>\n      <td>3.050000</td>\n    </tr>\n    <tr>\n      <th>Z</th>\n      <td>6.20</td>\n      <td>3.133333</td>\n    </tr>\n  </tbody>\n</table>\n</div>"
     },
     "metadata": {},
     "execution_count": 5
    }
   ],
   "source": [
    "df_train.groupby(\"drug\").mean()\n"
   ]
  },
  {
   "cell_type": "code",
   "execution_count": 7,
   "metadata": {},
   "outputs": [
    {
     "output_type": "execute_result",
     "data": {
      "text/plain": [
       "            ti        ci\n",
       "drug                    \n",
       "X     0.212132  0.070711\n",
       "Y     0.424264  0.212132\n",
       "Z     0.300000  0.230940"
      ],
      "text/html": "<div>\n<style scoped>\n    .dataframe tbody tr th:only-of-type {\n        vertical-align: middle;\n    }\n\n    .dataframe tbody tr th {\n        vertical-align: top;\n    }\n\n    .dataframe thead th {\n        text-align: right;\n    }\n</style>\n<table border=\"1\" class=\"dataframe\">\n  <thead>\n    <tr style=\"text-align: right;\">\n      <th></th>\n      <th>ti</th>\n      <th>ci</th>\n    </tr>\n    <tr>\n      <th>drug</th>\n      <th></th>\n      <th></th>\n    </tr>\n  </thead>\n  <tbody>\n    <tr>\n      <th>X</th>\n      <td>0.212132</td>\n      <td>0.070711</td>\n    </tr>\n    <tr>\n      <th>Y</th>\n      <td>0.424264</td>\n      <td>0.212132</td>\n    </tr>\n    <tr>\n      <th>Z</th>\n      <td>0.300000</td>\n      <td>0.230940</td>\n    </tr>\n  </tbody>\n</table>\n</div>"
     },
     "metadata": {},
     "execution_count": 7
    }
   ],
   "source": [
    "df_train.groupby(\"drug\").std()\n"
   ]
  },
  {
   "cell_type": "code",
   "execution_count": null,
   "metadata": {},
   "outputs": [],
   "source": [
    "# Giả sử các phân phối trên từng đặc trưng theo từng nhóm drug là Gaussian Distribution (or Normal Distribution) # Hướng dẫn sinh viên phân lớp [ti, ci] = [6.9, 3.1] theo Naive Bayes Gaussian Distribution\n",
    "\n",
    "# Lần lượt tính\n",
    "\n",
    "# pclassX = [P(thuốc = X) *P(6.9 thuốc = X)* P(3.1 thuốc = X)]/[P(6.9)*P(3.1)]\n",
    "\n",
    "# pclassy = P(thuốc = Y) *P(6.9 thuốc = Y)* P(3.1 thuốc = Y)/[P(6.9)*P(3.1)]\n",
    "\n",
    "# pclassZ = P(thuốc = Z)*P(6.9 thuốc = Z)* P(3.1 thuốc = Z)/[P(6.9)*P(3.1)]\n",
    "\n",
    "# class_predicted = argmax(pclassX, pclassy, ​​pclassZ)"
   ]
  },
  {
   "cell_type": "code",
   "execution_count": 9,
   "metadata": {},
   "outputs": [],
   "source": [
    "import math\n",
    "\n",
    "def GaussianProb(x_value, g_mean, g_std): \n",
    "    x1 = 1/math.sqrt(2*math.pi*g_std*g_std)\n",
    "\n",
    "    exp1 = math.exp(-0.5*((x_value  -g_mean)/g_std)**2)\n",
    "\n",
    "    return x1*exp1"
   ]
  },
  {
   "cell_type": "code",
   "execution_count": 12,
   "metadata": {},
   "outputs": [
    {
     "output_type": "error",
     "ename": "SyntaxError",
     "evalue": "invalid syntax (<ipython-input-12-26bf044c03ac>, line 6)",
     "traceback": [
      "\u001b[1;36m  File \u001b[1;32m\"<ipython-input-12-26bf044c03ac>\"\u001b[1;36m, line \u001b[1;32m6\u001b[0m\n\u001b[1;33m    pclassY = pclassY/(GaussianProb(6.9,5.928571,0.875051) *Gaussian Prob (3.1,3.085714,0.167616))\u001b[0m\n\u001b[1;37m                                                                     ^\u001b[0m\n\u001b[1;31mSyntaxError\u001b[0m\u001b[1;31m:\u001b[0m invalid syntax\n"
     ]
    }
   ],
   "source": [
    "pclassX = (2/7)*GaussianProb(6.9,4.75,0.212132) *GaussianProb(3.1,3.050000,0.070711)\n",
    "pclassx = pclassX/(GaussianProb(6.9,5.928571,0.875051) *GaussianProb(3.1,3.085714,0.167616)) \n",
    "print(pclassX)\n",
    "\n",
    "pclassy = (2/7)*GaussianProb(6.9,6.7,0.424264) *GaussianProb(3.1,3.050000,0.212132)\n",
    "pclassY = pclassY/(GaussianProb(6.9,5.928571,0.875051) *Gaussian Prob(3.1,3.085714,0.167616)) \n",
    "print(pclassY)\n",
    "\n",
    "pclassZ = (3/7) *GaussianProb(6.9,6.2,0.3)*GaussianProb(3.1, 3.133333,0.230940)\n",
    "pclassZ=pclassZ/ (GaussianProb(6.9,5.928571,0.875051) *GaussianProb(3.1,3.085714,0.167616)) \n",
    "print(pclassZ)\n",
    "\n",
    "import numpy as np\n",
    "maxvalue = np.max([pclassX, pclassy, pclassZ])\n",
    "\n",
    "print('Max Prob=', maxvalue)"
   ]
  },
  {
   "cell_type": "code",
   "execution_count": null,
   "metadata": {},
   "outputs": [],
   "source": []
  }
 ]
}