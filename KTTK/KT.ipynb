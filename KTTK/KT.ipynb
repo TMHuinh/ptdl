{
 "cells": [
  {
   "cell_type": "code",
   "execution_count": 4,
   "metadata": {},
   "outputs": [
    {
     "data": {
      "text/html": [
       "<div>\n",
       "<style scoped>\n",
       "    .dataframe tbody tr th:only-of-type {\n",
       "        vertical-align: middle;\n",
       "    }\n",
       "\n",
       "    .dataframe tbody tr th {\n",
       "        vertical-align: top;\n",
       "    }\n",
       "\n",
       "    .dataframe thead th {\n",
       "        text-align: right;\n",
       "    }\n",
       "</style>\n",
       "<table border=\"1\" class=\"dataframe\">\n",
       "  <thead>\n",
       "    <tr style=\"text-align: right;\">\n",
       "      <th></th>\n",
       "      <th>ORDERNUMBER</th>\n",
       "      <th>QUANTITYORDERED</th>\n",
       "      <th>ORDERLINENUMBER</th>\n",
       "      <th>SALES</th>\n",
       "      <th>ORDERDATE</th>\n",
       "      <th>STATUS</th>\n",
       "      <th>COUNTRY</th>\n",
       "      <th>DEALSIZE</th>\n",
       "      <th>Discount</th>\n",
       "      <th>Profit</th>\n",
       "    </tr>\n",
       "  </thead>\n",
       "  <tbody>\n",
       "    <tr>\n",
       "      <th>0</th>\n",
       "      <td>10107</td>\n",
       "      <td>30</td>\n",
       "      <td>2</td>\n",
       "      <td>2871.00</td>\n",
       "      <td>2003-02-24</td>\n",
       "      <td>Shipped</td>\n",
       "      <td>USA</td>\n",
       "      <td>Small</td>\n",
       "      <td>0.00</td>\n",
       "      <td>41.9136</td>\n",
       "    </tr>\n",
       "    <tr>\n",
       "      <th>1</th>\n",
       "      <td>10121</td>\n",
       "      <td>34</td>\n",
       "      <td>5</td>\n",
       "      <td>2765.90</td>\n",
       "      <td>2003-05-07</td>\n",
       "      <td>Shipped</td>\n",
       "      <td>France</td>\n",
       "      <td>Small</td>\n",
       "      <td>0.00</td>\n",
       "      <td>219.5820</td>\n",
       "    </tr>\n",
       "    <tr>\n",
       "      <th>2</th>\n",
       "      <td>10134</td>\n",
       "      <td>41</td>\n",
       "      <td>2</td>\n",
       "      <td>3884.34</td>\n",
       "      <td>2003-07-01</td>\n",
       "      <td>Shipped</td>\n",
       "      <td>France</td>\n",
       "      <td>Medium</td>\n",
       "      <td>0.00</td>\n",
       "      <td>6.8714</td>\n",
       "    </tr>\n",
       "    <tr>\n",
       "      <th>3</th>\n",
       "      <td>10145</td>\n",
       "      <td>45</td>\n",
       "      <td>6</td>\n",
       "      <td>3746.70</td>\n",
       "      <td>2003-08-25</td>\n",
       "      <td>Shipped</td>\n",
       "      <td>USA</td>\n",
       "      <td>Medium</td>\n",
       "      <td>0.45</td>\n",
       "      <td>-383.0310</td>\n",
       "    </tr>\n",
       "    <tr>\n",
       "      <th>4</th>\n",
       "      <td>10159</td>\n",
       "      <td>49</td>\n",
       "      <td>14</td>\n",
       "      <td>5205.27</td>\n",
       "      <td>2003-10-10</td>\n",
       "      <td>Shipped</td>\n",
       "      <td>USA</td>\n",
       "      <td>Medium</td>\n",
       "      <td>0.20</td>\n",
       "      <td>2.5164</td>\n",
       "    </tr>\n",
       "    <tr>\n",
       "      <th>...</th>\n",
       "      <td>...</td>\n",
       "      <td>...</td>\n",
       "      <td>...</td>\n",
       "      <td>...</td>\n",
       "      <td>...</td>\n",
       "      <td>...</td>\n",
       "      <td>...</td>\n",
       "      <td>...</td>\n",
       "      <td>...</td>\n",
       "      <td>...</td>\n",
       "    </tr>\n",
       "    <tr>\n",
       "      <th>2818</th>\n",
       "      <td>10350</td>\n",
       "      <td>20</td>\n",
       "      <td>15</td>\n",
       "      <td>2244.40</td>\n",
       "      <td>2004-12-02</td>\n",
       "      <td>Shipped</td>\n",
       "      <td>Spain</td>\n",
       "      <td>Small</td>\n",
       "      <td>0.00</td>\n",
       "      <td>315.7404</td>\n",
       "    </tr>\n",
       "    <tr>\n",
       "      <th>2819</th>\n",
       "      <td>10373</td>\n",
       "      <td>29</td>\n",
       "      <td>1</td>\n",
       "      <td>3978.51</td>\n",
       "      <td>2005-01-31</td>\n",
       "      <td>Shipped</td>\n",
       "      <td>Finland</td>\n",
       "      <td>Medium</td>\n",
       "      <td>0.20</td>\n",
       "      <td>2.3520</td>\n",
       "    </tr>\n",
       "    <tr>\n",
       "      <th>2820</th>\n",
       "      <td>10386</td>\n",
       "      <td>43</td>\n",
       "      <td>4</td>\n",
       "      <td>5417.57</td>\n",
       "      <td>2005-03-01</td>\n",
       "      <td>Resolved</td>\n",
       "      <td>Spain</td>\n",
       "      <td>Medium</td>\n",
       "      <td>0.20</td>\n",
       "      <td>7.4694</td>\n",
       "    </tr>\n",
       "    <tr>\n",
       "      <th>2821</th>\n",
       "      <td>10397</td>\n",
       "      <td>34</td>\n",
       "      <td>1</td>\n",
       "      <td>2116.16</td>\n",
       "      <td>2005-03-28</td>\n",
       "      <td>Shipped</td>\n",
       "      <td>France</td>\n",
       "      <td>Small</td>\n",
       "      <td>0.20</td>\n",
       "      <td>22.6782</td>\n",
       "    </tr>\n",
       "    <tr>\n",
       "      <th>2822</th>\n",
       "      <td>10414</td>\n",
       "      <td>47</td>\n",
       "      <td>9</td>\n",
       "      <td>3079.44</td>\n",
       "      <td>2005-05-06</td>\n",
       "      <td>On Hold</td>\n",
       "      <td>USA</td>\n",
       "      <td>Medium</td>\n",
       "      <td>0.20</td>\n",
       "      <td>0.5580</td>\n",
       "    </tr>\n",
       "  </tbody>\n",
       "</table>\n",
       "<p>2823 rows × 10 columns</p>\n",
       "</div>"
      ],
      "text/plain": [
       "      ORDERNUMBER  QUANTITYORDERED  ORDERLINENUMBER    SALES  ORDERDATE  \\\n",
       "0           10107               30                2  2871.00 2003-02-24   \n",
       "1           10121               34                5  2765.90 2003-05-07   \n",
       "2           10134               41                2  3884.34 2003-07-01   \n",
       "3           10145               45                6  3746.70 2003-08-25   \n",
       "4           10159               49               14  5205.27 2003-10-10   \n",
       "...           ...              ...              ...      ...        ...   \n",
       "2818        10350               20               15  2244.40 2004-12-02   \n",
       "2819        10373               29                1  3978.51 2005-01-31   \n",
       "2820        10386               43                4  5417.57 2005-03-01   \n",
       "2821        10397               34                1  2116.16 2005-03-28   \n",
       "2822        10414               47                9  3079.44 2005-05-06   \n",
       "\n",
       "        STATUS  COUNTRY DEALSIZE  Discount    Profit  \n",
       "0      Shipped      USA    Small      0.00   41.9136  \n",
       "1      Shipped   France    Small      0.00  219.5820  \n",
       "2      Shipped   France   Medium      0.00    6.8714  \n",
       "3      Shipped      USA   Medium      0.45 -383.0310  \n",
       "4      Shipped      USA   Medium      0.20    2.5164  \n",
       "...        ...      ...      ...       ...       ...  \n",
       "2818   Shipped    Spain    Small      0.00  315.7404  \n",
       "2819   Shipped  Finland   Medium      0.20    2.3520  \n",
       "2820  Resolved    Spain   Medium      0.20    7.4694  \n",
       "2821   Shipped   France    Small      0.20   22.6782  \n",
       "2822   On Hold      USA   Medium      0.20    0.5580  \n",
       "\n",
       "[2823 rows x 10 columns]"
      ]
     },
     "execution_count": 4,
     "metadata": {},
     "output_type": "execute_result"
    }
   ],
   "source": [
    "import pandas as pd\n",
    "import seaborn as sns\n",
    "import numpy as np\n",
    "import matplotlib.pyplot as plt\n",
    "import statsmodels.api as sm\n",
    "from statsmodels.formula.api import ols\n",
    "import scipy.stats as stats\n",
    "from scipy.stats.stats import pearsonr\n",
    "from scipy.stats import chi2_contingency\n",
    "\n",
    "df = pd.read_excel('sales_data_sample.xlsx')\n",
    "df"
   ]
  },
  {
   "cell_type": "code",
   "execution_count": 11,
   "metadata": {},
   "outputs": [
    {
     "name": "stdout",
     "output_type": "stream",
     "text": [
      "Độ lệch của dữ liệu SALES ban đầu: 1.160458972499323\n",
      "Độ lệch của dữ liệu SALES sau khi biến đổi log: -0.20150542936667845\n"
     ]
    },
    {
     "data": {
      "image/png": "[encoded data removed]",
      "text/plain": [
       "<Figure size 1200x600 with 2 Axes>"
      ]
     },
     "metadata": {},
     "output_type": "display_data"
    }
   ],
   "source": [
    "from scipy.stats import skew\n",
    "original_skewness = skew(df['SALES'])\n",
    "print(f\"Độ lệch của dữ liệu SALES ban đầu: {original_skewness}\")\n",
    "\n",
    "# Áp dụng biến đổi log lên SALES (thêm 1 để tránh log(0))\n",
    "df['log_SALES'] = np.log(df['SALES'] + 1)\n",
    "\n",
    "# Tính độ lệch của dữ liệu sau khi biến đổi log\n",
    "log_skewness = skew(df['log_SALES'])\n",
    "print(f\"Độ lệch của dữ liệu SALES sau khi biến đổi log: {log_skewness}\")\n",
    "# Vẽ biểu đồ phân phối trước và sau khi biến đổi log\n",
    "fig, ax = plt.subplots(1, 2, figsize=(12, 6))\n",
    "ax[0].hist(df['SALES'], bins=10, color='blue', alpha=0.7)\n",
    "ax[0].set_title('Phân phối SALES ban đầu')\n",
    "\n",
    "ax[1].hist(df['log_SALES'], bins=10, color='green', alpha=0.7)\n",
    "ax[1].set_title('Phân phối SALES sau khi biến đổi log')\n",
    "\n",
    "plt.show()"
   ]
  },
  {
   "cell_type": "code",
   "execution_count": 8,
   "metadata": {},
   "outputs": [
    {
     "name": "stdout",
     "output_type": "stream",
     "text": [
      "Số dòng đặt hàng nhiều nhất trong một đơn hàng là: 18\n"
     ]
    }
   ],
   "source": [
    "order_lines = df.groupby('ORDERNUMBER').size()\n",
    "\n",
    "# Đơn hàng có nhiều dòng đặt hàng nhất\n",
    "max_order_lines = order_lines.max()\n",
    "\n",
    "print(f\"Số dòng đặt hàng nhiều nhất trong một đơn hàng là: {max_order_lines}\")"
   ]
  },
  {
   "cell_type": "code",
   "execution_count": 12,
   "metadata": {},
   "outputs": [
    {
     "name": "stdout",
     "output_type": "stream",
     "text": [
      "                            OLS Regression Results                            \n",
      "==============================================================================\n",
      "Dep. Variable:                 Profit   R-squared:                       0.064\n",
      "Model:                            OLS   Adj. R-squared:                  0.063\n",
      "Method:                 Least Squares   F-statistic:                     64.21\n",
      "Date:                Wed, 11 Sep 2024   Prob (F-statistic):           3.74e-40\n",
      "Time:                        18:53:43   Log-Likelihood:                -18760.\n",
      "No. Observations:                2823   AIC:                         3.753e+04\n",
      "Df Residuals:                    2819   BIC:                         3.755e+04\n",
      "Df Model:                           3                                         \n",
      "Covariance Type:            nonrobust                                         \n",
      "===================================================================================\n",
      "                      coef    std err          t      P>|t|      [0.025      0.975]\n",
      "-----------------------------------------------------------------------------------\n",
      "const              54.7781     13.377      4.095      0.000      28.549      81.007\n",
      "QUANTITYORDERED     0.3367      0.432      0.780      0.435      -0.510       1.183\n",
      "SALES              -0.0013      0.002     -0.588      0.557      -0.006       0.003\n",
      "Discount         -238.6262     17.257    -13.828      0.000    -272.463    -204.789\n",
      "==============================================================================\n",
      "Omnibus:                     2536.604   Durbin-Watson:                   1.949\n",
      "Prob(Omnibus):                  0.000   Jarque-Bera (JB):          3934610.876\n",
      "Skew:                           2.990   Prob(JB):                         0.00\n",
      "Kurtosis:                     185.797   Cond. No.                     2.02e+04\n",
      "==============================================================================\n",
      "\n",
      "Notes:\n",
      "[1] Standard Errors assume that the covariance matrix of the errors is correctly specified.\n",
      "[2] The condition number is large, 2.02e+04. This might indicate that there are\n",
      "strong multicollinearity or other numerical problems.\n",
      "\n",
      "Hệ số hồi quy của các biến:\n",
      "const               54.778081\n",
      "QUANTITYORDERED      0.336745\n",
      "SALES               -0.001342\n",
      "Discount          -238.626243\n",
      "dtype: float64\n",
      "\n",
      "Thứ tự mức độ tác động từ cao đến thấp:\n",
      "Discount           238.626243\n",
      "const               54.778081\n",
      "QUANTITYORDERED      0.336745\n",
      "SALES                0.001342\n",
      "dtype: float64\n"
     ]
    }
   ],
   "source": [
    "X = df[['QUANTITYORDERED', 'SALES', 'Discount']]\n",
    "y = df['Profit']\n",
    "\n",
    "# Thêm cột hằng số vào X cho mô hình hồi quy\n",
    "X = sm.add_constant(X)\n",
    "\n",
    "# Xây dựng mô hình hồi quy tuyến tính\n",
    "model = sm.OLS(y, X).fit()\n",
    "\n",
    "# Xem kết quả hồi quy\n",
    "print(model.summary())\n",
    "\n",
    "# Lấy hệ số hồi quy của các biến\n",
    "coefficients = model.params\n",
    "print(\"\\nHệ số hồi quy của các biến:\")\n",
    "print(coefficients)\n",
    "\n",
    "# Thứ tự tác động của các biến độc lập dựa trên độ lớn hệ số hồi quy\n",
    "impact_order = coefficients.abs().sort_values(ascending=False)\n",
    "print(\"\\nThứ tự mức độ tác động từ cao đến thấp:\")\n",
    "print(impact_order)"
   ]
  },
  {
   "cell_type": "code",
   "execution_count": 13,
   "metadata": {},
   "outputs": [
    {
     "name": "stdout",
     "output_type": "stream",
     "text": [
      "Tương quan giữa QUANTITYORDERED và SALES: 0.551426191918357\n"
     ]
    }
   ],
   "source": [
    "correlation = df['QUANTITYORDERED'].corr(df['SALES'])\n",
    "\n",
    "print(f\"Tương quan giữa QUANTITYORDERED và SALES: {correlation}\")"
   ]
  },
  {
   "cell_type": "code",
   "execution_count": 14,
   "metadata": {},
   "outputs": [
    {
     "data": {
      "text/plain": [
       "<Figure size 1000x600 with 0 Axes>"
      ]
     },
     "metadata": {},
     "output_type": "display_data"
    },
    {
     "data": {
      "image/png": "[encoded data removed]",
      "text/plain": [
       "<Figure size 640x480 with 1 Axes>"
      ]
     },
     "metadata": {},
     "output_type": "display_data"
    },
    {
     "name": "stdout",
     "output_type": "stream",
     "text": [
      "      ORDERNUMBER  QUANTITYORDERED  ORDERLINENUMBER    SALES  ORDERDATE  \\\n",
      "0           10107               30                2  2871.00 2003-02-24   \n",
      "1           10121               34                5  2765.90 2003-05-07   \n",
      "2           10134               41                2  3884.34 2003-07-01   \n",
      "3           10145               45                6  3746.70 2003-08-25   \n",
      "4           10159               49               14  5205.27 2003-10-10   \n",
      "...           ...              ...              ...      ...        ...   \n",
      "2818        10350               20               15  2244.40 2004-12-02   \n",
      "2819        10373               29                1  3978.51 2005-01-31   \n",
      "2820        10386               43                4  5417.57 2005-03-01   \n",
      "2821        10397               34                1  2116.16 2005-03-28   \n",
      "2822        10414               47                9  3079.44 2005-05-06   \n",
      "\n",
      "        STATUS  COUNTRY DEALSIZE  Discount    Profit  log_SALES  \n",
      "0      Shipped      USA    Small      0.00   41.9136   7.962764  \n",
      "1      Shipped   France    Small      0.00  219.5820   7.925483  \n",
      "2      Shipped   France   Medium      0.00    6.8714   8.264966  \n",
      "3      Shipped      USA   Medium      0.45 -383.0310   8.228898  \n",
      "4      Shipped      USA   Medium      0.20    2.5164   8.557619  \n",
      "...        ...      ...      ...       ...       ...        ...  \n",
      "2818   Shipped    Spain    Small      0.00  315.7404   7.716639  \n",
      "2819   Shipped  Finland   Medium      0.20    2.3520   8.288914  \n",
      "2820  Resolved    Spain   Medium      0.20    7.4694   8.597587  \n",
      "2821   Shipped   France    Small      0.20   22.6782   7.657831  \n",
      "2822   On Hold      USA   Medium      0.20    0.5580   8.032828  \n",
      "\n",
      "[2823 rows x 11 columns]\n"
     ]
    },
    {
     "name": "stderr",
     "output_type": "stream",
     "text": [
      "C:\\Users\\DELL\\AppData\\Local\\Temp\\ipykernel_13784\\2061229918.py:13: FutureWarning: A value is trying to be set on a copy of a DataFrame or Series through chained assignment using an inplace method.\n",
      "The behavior will change in pandas 3.0. This inplace method will never work because the intermediate object on which we are setting values always behaves as a copy.\n",
      "\n",
      "For example, when doing 'df[col].method(value, inplace=True)', try using 'df.method({col: value}, inplace=True)' or df[col] = df[col].method(value) instead, to perform the operation inplace on the original object.\n",
      "\n",
      "\n",
      "  df['SALES'].fillna(median_sales_medium, inplace=True)\n"
     ]
    }
   ],
   "source": [
    "plt.figure(figsize=(10, 6))\n",
    "df.boxplot(column='SALES', by='DEALSIZE')\n",
    "plt.title('Boxplot of SALES by DEALSIZE')\n",
    "plt.suptitle('')  # Remove the default 'Boxplot grouped by DEALSIZE' title\n",
    "plt.xlabel('DEALSIZE')\n",
    "plt.ylabel('SALES')\n",
    "plt.show()\n",
    "\n",
    "# Tính toán giá trị trung bình (mean) và trung vị (median) cho nhóm DEALSIZE = Medium\n",
    "median_sales_medium = df[df['DEALSIZE'] == 'Medium']['SALES'].median()\n",
    "\n",
    "# Thay thế dữ liệu thiếu bằng giá trị trung vị\n",
    "df['SALES'].fillna(median_sales_medium, inplace=True)\n",
    "\n",
    "# Kiểm tra dữ liệu đã được thay thế\n",
    "print(df)"
   ]
  },
  {
   "cell_type": "code",
   "execution_count": 15,
   "metadata": {},
   "outputs": [
    {
     "ename": "NameError",
     "evalue": "name 'quantity_ordered' is not defined",
     "output_type": "error",
     "traceback": [
      "\u001b[1;31m---------------------------------------------------------------------------\u001b[0m",
      "\u001b[1;31mNameError\u001b[0m                                 Traceback (most recent call last)",
      "Cell \u001b[1;32mIn[15], line 17\u001b[0m\n\u001b[0;32m     13\u001b[0m beta_1, beta_2, beta_3 \u001b[38;5;241m=\u001b[39m model\u001b[38;5;241m.\u001b[39mcoef_\n\u001b[0;32m     15\u001b[0m \u001b[38;5;66;03m# Dự đoán giá trị lợi nhuận\u001b[39;00m\n\u001b[0;32m     16\u001b[0m predicted_profit \u001b[38;5;241m=\u001b[39m (beta_0 \u001b[38;5;241m+\u001b[39m \n\u001b[1;32m---> 17\u001b[0m                     beta_1 \u001b[38;5;241m*\u001b[39m \u001b[43mquantity_ordered\u001b[49m \u001b[38;5;241m+\u001b[39m \n\u001b[0;32m     18\u001b[0m                     beta_2 \u001b[38;5;241m*\u001b[39m sales \u001b[38;5;241m+\u001b[39m \n\u001b[0;32m     19\u001b[0m                     beta_3 \u001b[38;5;241m*\u001b[39m discount)\n\u001b[0;32m     21\u001b[0m \u001b[38;5;28mprint\u001b[39m(\u001b[38;5;124mf\u001b[39m\u001b[38;5;124m\"\u001b[39m\u001b[38;5;124mDự đoán giá trị lợi nhuận: \u001b[39m\u001b[38;5;132;01m{\u001b[39;00mpredicted_profit\u001b[38;5;132;01m:\u001b[39;00m\u001b[38;5;124m.2f\u001b[39m\u001b[38;5;132;01m}\u001b[39;00m\u001b[38;5;124m\"\u001b[39m)\n",
      "\u001b[1;31mNameError\u001b[0m: name 'quantity_ordered' is not defined"
     ]
    }
   ],
   "source": [
    "from sklearn.linear_model import LinearRegression\n",
    "\n",
    "# Giả sử df là DataFrame chứa dữ liệu của bạn\n",
    "X = df[['QUANTITYORDERED', 'SALES', 'Discount']]  # Các biến độc lập\n",
    "y = df['Profit']  # Biến phụ thuộc\n",
    "\n",
    "# Tạo mô hình hồi quy tuyến tính\n",
    "model = LinearRegression()\n",
    "model.fit(X, y)\n",
    "\n",
    "# Các hệ số hồi quy\n",
    "beta_0 = model.intercept_\n",
    "beta_1, beta_2, beta_3 = model.coef_\n",
    "\n",
    "# Dự đoán giá trị lợi nhuận\n",
    "predicted_profit = (beta_0 + \n",
    "                    beta_1 * quantity_ordered + \n",
    "                    beta_2 * sales + \n",
    "                    beta_3 * discount)\n",
    "\n",
    "print(f\"Dự đoán giá trị lợi nhuận: {predicted_profit:.2f}\")"
   ]
  },
  {
   "cell_type": "code",
   "execution_count": 18,
   "metadata": {},
   "outputs": [
    {
     "name": "stdout",
     "output_type": "stream",
     "text": [
      "Giá trị trung bình là: 3553.89\n",
      "Độ lệch chuẩn là: 1841.54\n",
      "Giá trị trước chuẩn hóa là: 4014.27\n"
     ]
    }
   ],
   "source": [
    "mean = np.mean(df['SALES'])\n",
    "\n",
    "# Tính độ lệch chuẩn\n",
    "std_dev = np.std(df['SALES'], ddof=0)  # ddof=0 để tính độ lệch chuẩn mẫu\n",
    "\n",
    "print(f\"Giá trị trung bình là: {mean:.2f}\")\n",
    "print(f\"Độ lệch chuẩn là: {std_dev:.2f}\")\n",
    "\n",
    "# Giá trị Z-score đã biết\n",
    "z_score = 0.25\n",
    "\n",
    "# Tính giá trị trước chuẩn hóa\n",
    "value_before_scaling = z_score * std_dev + mean\n",
    "\n",
    "print(f\"Giá trị trước chuẩn hóa là: {value_before_scaling:.2f}\")"
   ]
  },
  {
   "cell_type": "code",
   "execution_count": 16,
   "metadata": {},
   "outputs": [
    {
     "name": "stdout",
     "output_type": "stream",
     "text": [
      "                            OLS Regression Results                            \n",
      "==============================================================================\n",
      "Dep. Variable:                 Profit   R-squared:                       0.064\n",
      "Model:                            OLS   Adj. R-squared:                  0.063\n",
      "Method:                 Least Squares   F-statistic:                     64.21\n",
      "Date:                Wed, 11 Sep 2024   Prob (F-statistic):           3.74e-40\n",
      "Time:                        19:09:25   Log-Likelihood:                -18760.\n",
      "No. Observations:                2823   AIC:                         3.753e+04\n",
      "Df Residuals:                    2819   BIC:                         3.755e+04\n",
      "Df Model:                           3                                         \n",
      "Covariance Type:            nonrobust                                         \n",
      "===================================================================================\n",
      "                      coef    std err          t      P>|t|      [0.025      0.975]\n",
      "-----------------------------------------------------------------------------------\n",
      "const              54.7781     13.377      4.095      0.000      28.549      81.007\n",
      "QUANTITYORDERED     0.3367      0.432      0.780      0.435      -0.510       1.183\n",
      "SALES              -0.0013      0.002     -0.588      0.557      -0.006       0.003\n",
      "Discount         -238.6262     17.257    -13.828      0.000    -272.463    -204.789\n",
      "==============================================================================\n",
      "Omnibus:                     2536.604   Durbin-Watson:                   1.949\n",
      "Prob(Omnibus):                  0.000   Jarque-Bera (JB):          3934610.876\n",
      "Skew:                           2.990   Prob(JB):                         0.00\n",
      "Kurtosis:                     185.797   Cond. No.                     2.02e+04\n",
      "==============================================================================\n",
      "\n",
      "Notes:\n",
      "[1] Standard Errors assume that the covariance matrix of the errors is correctly specified.\n",
      "[2] The condition number is large, 2.02e+04. This might indicate that there are\n",
      "strong multicollinearity or other numerical problems.\n"
     ]
    }
   ],
   "source": [
    "X = df[['QUANTITYORDERED', 'SALES', 'Discount']]\n",
    "X = sm.add_constant(X)  # Thêm cột chặn vào ma trận thiết kế\n",
    "\n",
    "y = df['Profit']\n",
    "\n",
    "model = sm.OLS(y, X).fit()  # Tạo mô hình hồi quy tuyến tính\n",
    "print(model.summary())  "
   ]
  },
  {
   "cell_type": "code",
   "execution_count": 24,
   "metadata": {},
   "outputs": [
    {
     "name": "stdout",
     "output_type": "stream",
     "text": [
      "Giá trị p của ANOVA: 0.0037\n",
      "Có sự khác biệt đáng kể về giá trị đặt hàng giữa các trạng thái giao hàng.\n"
     ]
    }
   ],
   "source": [
    "from scipy.stats import f_oneway\n",
    "grouped = df.groupby('STATUS')['SALES'].apply(list)\n",
    "\n",
    "# Thực hiện phân tích ANOVA\n",
    "anova_result = f_oneway(*grouped)\n",
    "\n",
    "print(f\"Giá trị p của ANOVA: {anova_result.pvalue:.4f}\")\n",
    "\n",
    "if anova_result.pvalue < 0.05:\n",
    "    print(\"Có sự khác biệt đáng kể về giá trị đặt hàng giữa các trạng thái giao hàng.\")\n",
    "else:\n",
    "    print(\"Không có sự khác biệt đáng kể về giá trị đặt hàng giữa các trạng thái giao hàng.\")"
   ]
  },
  {
   "cell_type": "code",
   "execution_count": 22,
   "metadata": {},
   "outputs": [
    {
     "name": "stdout",
     "output_type": "stream",
     "text": [
      "Giá trị đã chuẩn hóa của SALES từ 50 đến 59 là:\n",
      "50: -0.03\n",
      "51: -0.03\n",
      "52: -0.03\n",
      "53: -0.03\n",
      "54: -0.03\n",
      "55: -0.03\n",
      "56: -0.03\n",
      "57: -0.03\n",
      "58: -0.03\n",
      "59: -0.03\n"
     ]
    }
   ],
   "source": [
    "sales_min = df['SALES'].min()\n",
    "sales_max = df['SALES'].max()\n",
    "\n",
    "# Danh sách các giá trị cần chuẩn hóa\n",
    "sales_values = np.arange(50, 60)  # Từ 50 đến 59\n",
    "\n",
    "# Tính giá trị đã chuẩn hóa\n",
    "scaled_values = (sales_values - sales_min) / (sales_max - sales_min)\n",
    "\n",
    "print(\"Giá trị đã chuẩn hóa của SALES từ 50 đến 59 là:\")\n",
    "for original, scaled in zip(sales_values, scaled_values):\n",
    "    print(f\"{original}: {scaled:.2f}\")"
   ]
  }
 ],
 "metadata": {
  "kernelspec": {
   "display_name": "Python 3",
   "language": "python",
   "name": "python3"
  },
  "language_info": {
   "codemirror_mode": {
    "name": "ipython",
    "version": 3
   },
   "file_extension": ".py",
   "mimetype": "text/x-python",
   "name": "python",
   "nbconvert_exporter": "python",
   "pygments_lexer": "ipython3",
   "version": "3.12.5"
  }
 },
 "nbformat": 4,
 "nbformat_minor": 2
}
